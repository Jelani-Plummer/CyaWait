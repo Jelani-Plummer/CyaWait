{
  "cells": [
    {
      "cell_type": "markdown",
      "metadata": {
        "id": "Jw3zE9A4Pe_I"
      },
      "source": [
        "model 1"
      ]
    },
    {
      "cell_type": "code",
      "execution_count": 1,
      "metadata": {
        "colab": {
          "base_uri": "https://localhost:8080/"
        },
        "id": "QxlZ4TChPaT7",
        "outputId": "9933897e-364c-4f15-c1c6-5f951fb4abc2"
      },
      "outputs": [
        {
          "name": "stdout",
          "output_type": "stream",
          "text": [
            "Model 1 - RMSE: 3.6089300513759572\n"
          ]
        }
      ],
      "source": [
        "import pandas as pd\n",
        "from sklearn.linear_model import LinearRegression\n",
        "from sklearn.model_selection import train_test_split\n",
        "from sklearn.metrics import mean_squared_error\n",
        "import numpy as np\n",
        "import pickle\n",
        "\n",
        "# Ensure your DataFrame has all the necessary data and transformations\n",
        "\n",
        "# Features for predicting the number of people in front\n",
        "\n",
        "df = pd.read_csv('data (1).csv')\n",
        "\n",
        "features_1 = ['Day of week', 'Arrival Time (minutes)', 'Location score',  'Restaurant type_Call in', 'Restaurant type_Dine in',\n",
        "       'Restaurant type_Fast food', 'Restaurant type_Fifo']\n",
        "target_1 = 'People infront'\n",
        "\n",
        "# Split the data into training and testing sets\n",
        "X_train_1, X_test_1, y_train_1, y_test_1 = train_test_split(df[features_1], df[target_1], test_size=0.2, random_state=42)\n",
        "\n",
        "# Train the regression model\n",
        "model_1 = LinearRegression()\n",
        "model_1.fit(X_train_1, y_train_1)\n",
        "\n",
        "#Create a pickle file of model\n",
        "with open('model_1.pkl', 'wb') as f:\n",
        "    pickle.dump(model_1, f)\n",
        "\n",
        "# Evaluate the model\n",
        "y_pred_1 = model_1.predict(X_test_1)\n",
        "mse_1 = mean_squared_error(y_test_1, y_pred_1)\n",
        "rmse_1 = np.sqrt(mse_1)\n",
        "\n",
        "print(\"Model 1 - RMSE:\", rmse_1)"
      ]
    },
    {
      "cell_type": "code",
      "execution_count": 2,
      "metadata": {
        "colab": {
          "base_uri": "https://localhost:8080/"
        },
        "id": "hg-L0R1-uvGN",
        "outputId": "497e570c-14a1-4c0c-f5d3-807fd3b660ec"
      },
      "outputs": [
        {
          "name": "stdout",
          "output_type": "stream",
          "text": [
            "<class 'pandas.core.frame.DataFrame'>\n",
            "RangeIndex: 41 entries, 0 to 40\n",
            "Data columns (total 32 columns):\n",
            " #   Column                     Non-Null Count  Dtype \n",
            "---  ------                     --------------  ----- \n",
            " 0   Name of restaurant         41 non-null     object\n",
            " 1   Day of week                41 non-null     int64 \n",
            " 2   Arrival time               41 non-null     object\n",
            " 3   Departure time             41 non-null     object\n",
            " 4   Food wait time             41 non-null     object\n",
            " 5   Order time                 41 non-null     object\n",
            " 6   Time in queue              41 non-null     object\n",
            " 7   Size                       41 non-null     int64 \n",
            " 8   People infront             41 non-null     int64 \n",
            " 9   Wait time                  41 non-null     object\n",
            " 10  Popular                    41 non-null     bool  \n",
            " 11  Location score             41 non-null     int64 \n",
            " 12  Restaurant type_Call in    41 non-null     bool  \n",
            " 13  Restaurant type_Dine in    41 non-null     bool  \n",
            " 14  Restaurant type_Fast food  41 non-null     bool  \n",
            " 15  Restaurant type_Fifo       41 non-null     bool  \n",
            " 16  Food type_Chicken          41 non-null     bool  \n",
            " 17  Food type_Other            41 non-null     bool  \n",
            " 18  Food type_burger           41 non-null     bool  \n",
            " 19  Food type_main course      41 non-null     bool  \n",
            " 20  Food type_meal             41 non-null     bool  \n",
            " 21  Food type_sandwhich        41 non-null     bool  \n",
            " 22  Arrival Time (minutes)     41 non-null     int64 \n",
            " 23  Departure Time (minutes)   41 non-null     int64 \n",
            " 24  Time Ordered (minutes)     41 non-null     int64 \n",
            " 25  Queue Time                 41 non-null     object\n",
            " 26  Food Wait Time             41 non-null     object\n",
            " 27  Total Wait Time            41 non-null     object\n",
            " 28  Is Peak Hour               41 non-null     int64 \n",
            " 29  Queue Time (minutes)       41 non-null     int64 \n",
            " 30  Food Wait Time (minutes)   41 non-null     int64 \n",
            " 31  Total Wait Time (minutes)  41 non-null     int64 \n",
            "dtypes: bool(11), int64(11), object(10)\n",
            "memory usage: 7.3+ KB\n"
          ]
        },
        {
          "data": {
            "text/plain": [
              "Index(['Name of restaurant', 'Day of week', 'Arrival time', 'Departure time',\n",
              "       'Food wait time', 'Order time', 'Time in queue', 'Size',\n",
              "       'People infront', 'Wait time', 'Popular', 'Location score',\n",
              "       'Restaurant type_Call in', 'Restaurant type_Dine in',\n",
              "       'Restaurant type_Fast food', 'Restaurant type_Fifo',\n",
              "       'Food type_Chicken', 'Food type_Other', 'Food type_burger',\n",
              "       'Food type_main course', 'Food type_meal', 'Food type_sandwhich',\n",
              "       'Arrival Time (minutes)', 'Departure Time (minutes)',\n",
              "       'Time Ordered (minutes)', 'Queue Time', 'Food Wait Time',\n",
              "       'Total Wait Time', 'Is Peak Hour', 'Queue Time (minutes)',\n",
              "       'Food Wait Time (minutes)', 'Total Wait Time (minutes)'],\n",
              "      dtype='object')"
            ]
          },
          "execution_count": 2,
          "metadata": {},
          "output_type": "execute_result"
        }
      ],
      "source": [
        "df.info()\n",
        "df.columns\n",
        "\n"
      ]
    },
    {
      "cell_type": "markdown",
      "metadata": {
        "id": "aGuoSudfT9d3"
      },
      "source": [
        "model 2\n"
      ]
    },
    {
      "cell_type": "code",
      "execution_count": 3,
      "metadata": {
        "colab": {
          "base_uri": "https://localhost:8080/"
        },
        "id": "Y3C9Nqp0UAWn",
        "outputId": "836e58ad-0631-4198-ff73-a61a2ce320c1"
      },
      "outputs": [
        {
          "name": "stdout",
          "output_type": "stream",
          "text": [
            "Model 2 - RMSE: 5.263064719792265\n"
          ]
        }
      ],
      "source": [
        "# Features for predicting average time in queue\n",
        "features_2 = ['Restaurant type_Fast food' , 'Food type_Chicken', 'Food type_Other', 'Food type_burger',\n",
        "       'Food type_main course', 'Food type_meal', 'Food type_sandwhich',]\n",
        "target_2 = 'Queue Time (minutes)'\n",
        "\n",
        "# Split the data into training and testing sets\n",
        "X_train_2, X_test_2, y_train_2, y_test_2 = train_test_split(df[features_2], df[target_2], test_size=0.2, random_state=42)\n",
        "\n",
        "# Train the regression model\n",
        "model_2 = LinearRegression()\n",
        "model_2.fit(X_train_2, y_train_2)\n",
        "\n",
        "pickle.dump(model_2,open(\"model_2.pkl\",\"wb\"))\n",
        "# Evaluate the model\n",
        "y_pred_2 = model_2.predict(X_test_2)\n",
        "mse_2 = mean_squared_error(y_test_2, y_pred_2)\n",
        "rmse_2 = np.sqrt(mse_2)\n",
        "\n",
        "print(\"Model 2 - RMSE:\", rmse_2)\n"
      ]
    },
    {
      "cell_type": "markdown",
      "metadata": {
        "id": "ohGbuavsV8ir"
      },
      "source": [
        "MODEL 3"
      ]
    },
    {
      "cell_type": "code",
      "execution_count": 4,
      "metadata": {
        "colab": {
          "base_uri": "https://localhost:8080/"
        },
        "id": "683Dv5ZyWJ4c",
        "outputId": "ef8f9588-e59a-4164-e5b6-e64c6f4e8db7"
      },
      "outputs": [
        {
          "name": "stdout",
          "output_type": "stream",
          "text": [
            "Model 3 - RMSE: 31.63435985068814\n"
          ]
        }
      ],
      "source": [
        "df_new = df.copy()\n",
        "\n",
        "# Add the predicted values from Model 1 and Model 2\n",
        "df_new['Predicted No. of people in front'] = model_1.predict(df[features_1])\n",
        "df_new['Predicted Queue Time (minutes)'] = model_2.predict(df[features_2])\n",
        "\n",
        "# Features for predicting total wait time\n",
        "features_3 = ['Predicted No. of people in front', 'Predicted Queue Time (minutes)']\n",
        "target_3 = 'Total Wait Time (minutes)'\n",
        "\n",
        "# Split the data into training and testing sets\n",
        "X_train_3, X_test_3, y_train_3, y_test_3 = train_test_split(df_new[features_3], df_new[target_3], test_size=0.2, random_state=42)\n",
        "\n",
        "# Train the regression model\n",
        "model_3 = LinearRegression()\n",
        "model_3.fit(X_train_3, y_train_3)\n",
        "\n",
        "pickle.dump(model_2,open(\"finmod.pkl\",\"wb\"))\n",
        "\n",
        "# Evaluate the model\n",
        "y_pred_3 = model_3.predict(X_test_3)\n",
        "mse_3 = mean_squared_error(y_test_3, y_pred_3)\n",
        "rmse_3 = np.sqrt(mse_3)\n",
        "\n",
        "print(\"Model 3 - RMSE:\", rmse_3)"
      ]
    },
    {
      "cell_type": "code",
      "execution_count": 5,
      "metadata": {
        "id": "P_kZfQOufw1H"
      },
      "outputs": [],
      "source": [
        "# #food wait time\n",
        "# import pandas as pd\n",
        "# from sklearn.model_selection import train_test_split\n",
        "# from sklearn.ensemble import RandomForestRegressor\n",
        "# from sklearn.metrics import mean_squared_error\n",
        "# from sklearn.preprocessing import StandardScaler\n",
        "# from sklearn.pipeline import Pipeline\n",
        "\n",
        "# def time_to_minutes(t):\n",
        "#     return t.hour * 60 + t.minute\n",
        "\n",
        "# # Assuming 'Time in queue' needs conversion and is of type datetime.time\n",
        "# df['Time in queue'] = df['Time in queue'].apply(time_to_minutes)\n",
        "\n",
        "\n",
        "# # Now, continue with your feature selection and model training\n",
        "# X = df[['Size', 'Time in queue', 'Food type_Chicken', 'Food type_burger', 'Food type_main course', 'Food type_meal', 'Food type_sandwhich', 'Restaurant type_Call in', 'Restaurant type_Dine in',\n",
        "#        'Restaurant type_Fast food', 'Restaurant type_Fifo', 'Is Peak Hour']]\n",
        "# y = df['Food Wait Time (minutes)']\n",
        "\n",
        "# # Split data into training and testing sets\n",
        "# X_train, X_test, y_train, y_test = train_test_split(X, y, test_size=0.2, random_state=42)\n",
        "\n",
        "# # Create a pipeline with preprocessing and model\n",
        "# pipeline = Pipeline([\n",
        "#     ('scaler', StandardScaler()),\n",
        "#     ('regressor', RandomForestRegressor(n_estimators=100, random_state=42))\n",
        "# ])\n",
        "\n",
        "# # Train the model\n",
        "# pipeline.fit(X_train, y_train)\n",
        "\n",
        "# # Predict on the test set\n",
        "# y_pred = pipeline.predict(X_test)\n",
        "\n",
        "# # Evaluate the model\n",
        "# rmse = mean_squared_error(y_test, y_pred, squared=False)\n",
        "# print(f'Root Mean Squared Error: {rmse}')\n",
        "\n",
        "\n",
        "# from sklearn.preprocessing import PolynomialFeatures\n",
        "\n",
        "# # Assume X_train and X_test are already defined\n",
        "# poly = PolynomialFeatures(degree=2, include_bias=False)\n",
        "# X_train_poly = poly.fit_transform(X_train)\n",
        "# X_test_poly = poly.transform(X_test)\n",
        "\n",
        "# # Now use X_train_poly and X_test_poly for model training and predictions\n",
        "\n",
        "\n",
        "# from sklearn.ensemble import GradientBoostingRegressor\n",
        "\n",
        "# gbm = GradientBoostingRegressor(n_estimators=100, learning_rate=0.1, max_depth=3, random_state=42)\n",
        "# gbm.fit(X_train_poly, y_train)  # Use polynomial features\n",
        "\n",
        "# y_pred_gbm = gbm.predict(X_test_poly)\n",
        "# rmse_gbm = mean_squared_error(y_test, y_pred_gbm, squared=False)\n",
        "# print(f'GBM Root Mean Squared Error: {rmse_gbm}')\n",
        "\n"
      ]
    },
    {
      "cell_type": "code",
      "execution_count": 6,
      "metadata": {
        "colab": {
          "base_uri": "https://localhost:8080/"
        },
        "id": "vp00rJlmXqSe",
        "outputId": "815ced4b-c587-4bf5-f250-7a1672eaa7fd"
      },
      "outputs": [
        {
          "data": {
            "text/plain": [
              "Index(['Name of restaurant', 'Day of week', 'Arrival time', 'Departure time',\n",
              "       'Food wait time', 'Order time', 'Time in queue', 'Size',\n",
              "       'People infront', 'Wait time', 'Popular', 'Location score',\n",
              "       'Restaurant type_Call in', 'Restaurant type_Dine in',\n",
              "       'Restaurant type_Fast food', 'Restaurant type_Fifo',\n",
              "       'Food type_Chicken', 'Food type_Other', 'Food type_burger',\n",
              "       'Food type_main course', 'Food type_meal', 'Food type_sandwhich',\n",
              "       'Arrival Time (minutes)', 'Departure Time (minutes)',\n",
              "       'Time Ordered (minutes)', 'Queue Time', 'Food Wait Time',\n",
              "       'Total Wait Time', 'Is Peak Hour', 'Queue Time (minutes)',\n",
              "       'Food Wait Time (minutes)', 'Total Wait Time (minutes)'],\n",
              "      dtype='object')"
            ]
          },
          "execution_count": 6,
          "metadata": {},
          "output_type": "execute_result"
        }
      ],
      "source": [
        "df.columns\n"
      ]
    },
    {
      "cell_type": "markdown",
      "metadata": {
        "id": "sk-Vt7JHXrNG"
      },
      "source": [
        "testing"
      ]
    },
    {
      "cell_type": "code",
      "execution_count": 7,
      "metadata": {
        "id": "E-tiMi3uWW8-"
      },
      "outputs": [],
      "source": [
        "# features_1 = ['Day of week', 'Arrival Time (minutes)', 'Location score', 'Restaurant type_Call in', 'Restaurant type_Dine in',\n",
        "#        'Restaurant type_Fast food', 'Restaurant type_Fifo',]\n",
        "# features_2 = ['Restaurant type_Fast food' , 'Food type_Chicken', 'Food type_Other', 'Food type_burger',\n",
        "#        'Food type_main course', 'Food type_meal', 'Food type_sandwhich',]\n",
        "\n",
        "# # Given input data\n",
        "# input_data = {\n",
        "#     'Name of restaurant': 'KFC',\n",
        "#     'Day of week': 'Sunday',\n",
        "#     'Arrival time': '16:00:00',  # Time in 'HH:MM:SS'\n",
        "#     'food type': 'Chicken',  # Categorical\n",
        "#     'Restaurant type': 'Fast food',  # Categorical\n",
        "#     'size': 1,  # Integer\n",
        "#     'popular': True,  # Boolean\n",
        "#     'location score': 'lightly populated'  # Categorical\n",
        "# }\n",
        "\n",
        "# # Convert to DataFrame\n",
        "# input_df = pd.DataFrame([input_data])\n",
        "\n",
        "# # Convert categorical data to numerical data\n",
        "# day_of_week_mapping = {'Monday': 1, 'Tuesday': 2, 'Wednesday': 3, 'Thursday': 4, 'Friday': 5, 'Saturday': 6, 'Sunday': 7}\n",
        "# location_score_mapping = {'lightly populated': 1, 'populated': 2, 'heavily populated': 3}\n",
        "\n",
        "# input_df['Day of week'] = input_df['Day of week'].map(day_of_week_mapping)\n",
        "# input_df['location score'] = input_df['location score'].map(location_score_mapping)\n",
        "\n",
        "# # Convert time to minutes since midnight\n",
        "# def time_to_minutes(time_str):\n",
        "#     if pd.isna(time_str) or time_str.strip() == \"\":\n",
        "#         return np.nan  # Handle invalid or empty data\n",
        "#     hours, minutes, _ = map(int, time_str.strip().split(':'))\n",
        "#     return hours * 60 + minutes\n",
        "\n",
        "# input_df['Arrival Time (minutes)'] = input_df['Arrival time'].apply(time_to_minutes)\n",
        "\n",
        "# # One-hot encode categorical data if needed\n",
        "# input_df = pd.get_dummies(input_df, columns=['food type', 'Restaurant type'])\n",
        "\n",
        "# # Ensure correct features are present\n",
        "# for feature in features_1 + features_2:\n",
        "#     if feature not in input_df.columns:\n",
        "#         input_df[feature] = 0  # Default value for missing features\n",
        "\n",
        "# # Predict \"Number of people in front\" using Model 1\n",
        "# number_of_people_in_front = model_1.predict(input_df[features_1])\n",
        "# input_df['Predicted No. of people in front'] = number_of_people_in_front\n",
        "\n",
        "# # Predict \"Average time in queue\" using Model 2\n",
        "# average_time_in_queue = model_2.predict(input_df[features_2])\n",
        "# input_df['Predicted Queue Time (minutes)'] = average_time_in_queue\n",
        "\n",
        "# # Define the features for Model 3\n",
        "# features_3 = ['Predicted No. of people in front', 'Predicted Queue Time (minutes)']\n",
        "\n",
        "# # Predict the final wait time using Model 3\n",
        "# predicted_wait_times = model_3.predict(input_df[features_3])\n",
        "\n",
        "# print(\"Predicted wait times (in minutes):\", predicted_wait_times)"
      ]
    },
    {
      "cell_type": "code",
      "execution_count": 8,
      "metadata": {
        "colab": {
          "base_uri": "https://localhost:8080/"
        },
        "id": "14UIzTbH8OxV",
        "outputId": "bc84fbca-a9c0-412f-fd20-de8151d5b526"
      },
      "outputs": [
        {
          "name": "stdout",
          "output_type": "stream",
          "text": [
            "[9.18033367]\n",
            "[8.5]\n",
            "Predicted wait times (in minutes): [24.23769953]\n"
          ]
        }
      ],
      "source": [
        "features_1 = ['Day of week', 'Arrival Time (minutes)', 'Location score',  'Restaurant type_Call in', 'Restaurant type_Dine in',\n",
        "       'Restaurant type_Fast food', 'Restaurant type_Fifo']\n",
        "features_2 = ['Restaurant type_Fast food' , 'Food type_Chicken', 'Food type_Other', 'Food type_burger',\n",
        "       'Food type_main course', 'Food type_meal', 'Food type_sandwhich']\n",
        "\n",
        "# Given input data\n",
        "input_data = {\n",
        "    'Name of restaurant': 'KFC',\n",
        "    'Day of week': 'Sunday',\n",
        "    'Arrival time': '16:00:00',  # Time in 'HH:MM:SS'\n",
        "    'Food type': 'sandwhich',  # Categorical\n",
        "    'Restaurant type': 'Fast food',  # Categorical\n",
        "    'Size': 1,  # Integer\n",
        "    'popular': True,  # Boolean\n",
        "    'Location score': 'lightly populated'  # Categorical\n",
        "}\n",
        "\n",
        "# Convert to DataFrame\n",
        "input_df = pd.DataFrame([input_data])\n",
        "\n",
        "# Convert categorical data to numerical data\n",
        "day_of_week_mapping = {'Monday': 1, 'Tuesday': 2, 'Wednesday': 3, 'Thursday': 4, 'Friday': 5, 'Saturday': 6, 'Sunday': 7}\n",
        "location_score_mapping = {'lightly populated': 1, 'populated': 2, 'heavily populated': 3}\n",
        "\n",
        "input_df['Day of week'] = input_df['Day of week'].map(day_of_week_mapping)\n",
        "input_df['Location score'] = input_df['Location score'].map(location_score_mapping)\n",
        "\n",
        "# Convert time to minutes since midnight\n",
        "def time_to_minutes(time_str):\n",
        "    if pd.isna(time_str) or time_str.strip() == \"\":\n",
        "        return np.nan  # Handle invalid or empty data\n",
        "    hours, minutes, _ = map(int, time_str.strip().split(':'))\n",
        "    return hours * 60 + minutes\n",
        "\n",
        "input_df['Arrival Time (minutes)'] = input_df['Arrival time'].apply(time_to_minutes)\n",
        "\n",
        "# One-hot encode categorical data if needed\n",
        "input_df = pd.get_dummies(input_df, columns=['Food type', 'Restaurant type'])\n",
        "\n",
        "# Ensure correct features are present\n",
        "for feature in features_1 + features_2:\n",
        "    if feature not in input_df.columns:\n",
        "        input_df[feature] = 0  # Default value for missing features\n",
        "\n",
        "# Predict \"Number of people in front\" using Model 1\n",
        "number_of_people_in_front = model_1.predict(input_df[features_1])\n",
        "input_df['Predicted No. of people in front'] = number_of_people_in_front\n",
        "\n",
        "print(number_of_people_in_front)\n",
        "\n",
        "# Predict \"Average time in queue\" using Model 2\n",
        "average_time_in_queue = model_2.predict(input_df[features_2])\n",
        "input_df['Predicted Queue Time (minutes)'] = average_time_in_queue\n",
        "\n",
        "print(average_time_in_queue)\n",
        "\n",
        "# Define the features for Model 3\n",
        "features_3 = ['Predicted No. of people in front', 'Predicted Queue Time (minutes)']\n",
        "\n",
        "# Predict the final wait time using Model 3\n",
        "predicted_wait_times = model_3.predict(input_df[features_3])\n",
        "\n",
        "print(\"Predicted wait times (in minutes):\", predicted_wait_times)"
      ]
    },
    {
      "cell_type": "code",
      "execution_count": 9,
      "metadata": {
        "id": "3XFo7FJujhxy"
      },
      "outputs": [],
      "source": [
        "# import pandas as pd\n",
        "# import numpy as np\n",
        "# import pickle\n",
        "\n",
        "# # Function to load the model from a file\n",
        "# def load_model(file_path):\n",
        "#     with open(file_path, 'rb') as file:\n",
        "#         return pickle.load(file)\n",
        "\n",
        "# # Load models\n",
        "# model_1 = load_model('model_1.pkl')\n",
        "# model_2 = load_model('model_2.pkl')\n",
        "# model_3 = load_model('model_3.pkl')\n",
        "\n",
        "# # Function to convert time to minutes since midnight\n",
        "# def time_to_minutes(time_str):\n",
        "#     hours, minutes, _ = map(int, time_str.split(':'))\n",
        "#     return hours * 60 + minutes\n",
        "\n",
        "# # Function to collect user input for a prediction\n",
        "# # def collect_user_input():\n",
        "# #     print(\"Please enter the following information:\")\n",
        "# #     data = {\n",
        "# #         'Name of restaurant': input('Name of restaurant: '),\n",
        "# #         'Day of week': input('Day of week (e.g., Monday, Tuesday, etc.): '),\n",
        "# #         'Arrival time': input('Arrival time (HH:MM:SS): '),\n",
        "# #         'Food type': input('Food type (e.g., Chicken, Other, Sandwich): '),\n",
        "# #         'Restaurant type': input('Restaurant type (e.g., Fast food, Other): '),\n",
        "# #         'Size': int(input('Size (integer): ')),\n",
        "# #         'Popular': input('Is it popular? (Yes/No): ').lower() == 'yes',\n",
        "# #         'Location score': input('Location score (e.g., lightly populated, populated, heavily populated): ')\n",
        "# #     }\n",
        "# #     return data\n",
        "\n",
        "# input_data = {\n",
        "#     'Name of restaurant': 'KFC',\n",
        "#     'Day of week': 'Sunday',\n",
        "#     'Arrival time': '16:00:00',  # Time in 'HH:MM:SS'\n",
        "#     'Food type': 'sandwhich',  # Categorical\n",
        "#     'Restaurant type': 'Fast food',  # Categorical\n",
        "#     'size': 1,  # Integer\n",
        "#     'popular': True,  # Boolean\n",
        "#     'Location score': 'lightly populated'  # Categorical\n",
        "# }\n",
        "\n",
        "\n",
        "# # Function to preprocess and encode the input data for model prediction\n",
        "# def preprocess_input_data(input_data):\n",
        "#     input_df = pd.DataFrame([input_data])\n",
        "#     day_of_week_mapping = {'Monday': 1, 'Tuesday': 2, 'Wednesday': 3, 'Thursday': 4, 'Friday': 5, 'Saturday': 6, 'Sunday': 7}\n",
        "#     location_score_mapping = {'lightly populated': 1, 'populated': 2, 'heavily populated': 3}\n",
        "#     input_df['Day of week'] = input_df['Day of week'].map(day_of_week_mapping)\n",
        "#     input_df['Location score'] = input_df['Location score'].map(location_score_mapping)\n",
        "#     input_df['Arrival Time (minutes)'] = input_df['Arrival time'].apply(time_to_minutes)\n",
        "#     input_df = pd.get_dummies(input_df, columns=['Food type', 'Restaurant type'])\n",
        "#     return input_df\n",
        "\n",
        "# # Function to predict based on the input data\n",
        "# def make_predictions(input_df):\n",
        "#     features_1 = ['Day of week', 'Arrival Time (minutes)', 'Location score', 'Restaurant type_Fast food']\n",
        "#     features_2 = ['Restaurant type_Fast food', 'Restaurant type_Other', 'Food type_Chicken', 'Food type_Other', 'Food type_Sandwich']\n",
        "#     for feature in features_1 + features_2:\n",
        "#         if feature not in input_df.columns:\n",
        "#             input_df[feature] = 0\n",
        "\n",
        "#     input_df['Predicted No. of people in front'] = model_1.predict(input_df[features_1])\n",
        "#     input_df['Predicted Queue Time (minutes)'] = model_2.predict(input_df[features_2])\n",
        "#     features_3 = ['Predicted No. of people in front', 'Predicted Queue Time (minutes)']\n",
        "#     predicted_wait_times = model_3.predict(input_df[features_3])\n",
        "#     return predicted_wait_times\n",
        "\n",
        "# # Main function to run the menu and make predictions\n",
        "# def main():\n",
        "#     # user_data = collect_user_input()\n",
        "#     preprocessed_data = preprocess_input_data(input_data)\n",
        "#     predicted_wait_time = make_predictions(preprocessed_data)\n",
        "#     print(f\"Predicted wait times (in minutes): {predicted_wait_time}\")\n",
        "\n",
        "# if __name__ == '__main__':\n",
        "#     main()\n",
        "\n"
      ]
    }
  ],
  "metadata": {
    "colab": {
      "provenance": []
    },
    "kernelspec": {
      "display_name": "Python 3",
      "name": "python3"
    },
    "language_info": {
      "codemirror_mode": {
        "name": "ipython",
        "version": 3
      },
      "file_extension": ".py",
      "mimetype": "text/x-python",
      "name": "python",
      "nbconvert_exporter": "python",
      "pygments_lexer": "ipython3",
      "version": "3.11.9"
    }
  },
  "nbformat": 4,
  "nbformat_minor": 0
}
